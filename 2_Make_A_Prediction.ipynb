{
 "cells": [
  {
   "cell_type": "markdown",
   "metadata": {},
   "source": [
    "# Load Model"
   ]
  },
  {
   "cell_type": "code",
   "execution_count": 1,
   "metadata": {
    "collapsed": true
   },
   "outputs": [],
   "source": [
    "from sklearn.externals import joblib\n",
    "save_path = 'gs.pkl'\n",
    "loaded_gs = joblib.load(save_path)"
   ]
  },
  {
   "cell_type": "markdown",
   "metadata": {},
   "source": [
    "# Make Prediction"
   ]
  },
  {
   "cell_type": "code",
   "execution_count": 10,
   "metadata": {},
   "outputs": [
    {
     "name": "stdout",
     "output_type": "stream",
     "text": [
      "The review is POSITIVE\n"
     ]
    }
   ],
   "source": [
    "review = \"\"\"\n",
    "\n",
    "Over 163 stylish minutes, “Blade Runner 2049” wrestles with nothing less than what it means to be human, serving as a beautiful thematic companion to Ridley Scott’s “Blade Runner,” a film that redefined a genre. It’s too soon to tell if the follow-up will have the influence and staying power of the groundbreaking original but it’s clear from the beginning that this no mere piece of nostalgic fan service. Unlike a lot of reboots or long-delayed sequels that merely remix the themes and characters of the beloved original to give viewers the hollow comfort of familiarity, Denis Villeneuve and his team are remarkably ambitious, using the topics raised by “Blade Runner” to continue the conversation instead of just repeating it to make a buck. To that end, they have made one of the most deeply philosophical and challenging sci-fi films of all time, a movie that never holds your hand as it spirals the viewer through its gorgeous funhouse of the human soul.\n",
    "\n",
    "Here’s where things get a little tricky for a film critic. Villeneuve and the team at Warner Brothers have asked critics to be incredibly precious with spoilers, not even revealing things that the film does mere minutes into its running time (and even a couple things I believe the trailers give away, but whatever). The way the film reveals its secrets, themes, and connections is one of its greatest strengths, so I’ll heed that directorial request, although I suspect some of the best writing about this film will be done when its themes can be discussed beat by beat and explicitly.\n",
    "\n",
    "Until then, I’ll just give you the very basics, as beautiful as they are. Riding a wave of gorgeous visuals from the legendary Roger Deakins and a crack effects team, Villeneuve brings us to Los Angeles in 2049. It’s been decades since the action of the first film, but the replicant-destroying Blade Runner is still a profession, personified here by Ryan Gosling as an agent known as K. His duty now is to track down old replicants who have gone into hiding, living long past their originally-programmed lifespan. In the film’s opening, Officer K tracks down a replicant who is just trying to live a peaceful life as a farmer (a spectacled Dave Bautista, doing a great deal with a small role). What he finds there will start what is essentially a detective story, spurring K to solve a mystery about his own past, the history of replicants, the power of memory, and what it means to be a human being. Robin Wright, Jared Leto, and Harrison Ford co-star.\n",
    "\n",
    "From the minute footage of “Blade Runner 2049” started to leak, it was clear that the director of “Prisoners” and “Arrival” had created a film with a confident, strong visual language. The Oscar talk for the always-an-Academy-bridesmaid Roger Deakins started with the first trailer. The film is undeniably gorgeous, the kind of work that could be appreciated with the volume turned all the way down. Not only are Deakins and Villeneuve great at the “futuristic” aspects of their vision, but they’ve made a film whose most striking imagery often relates to nature. When I think of “2049,” I think of waves crashing, snow falling, and, of course, rain pelting down—an iconic image from the first film that’s almost subverted here in the second half. And Villeneuve and Deakins are often playful within this visually striking world, capturing images that work thematically—I think of a “small” K against gigantic statues at a point when he’s questioning his place in the world or a moment with a hologram that comes off a billboard to remind him of what he’s lost in a fashion that’s ten stories tall—while never losing sight of the pure beauty of it all. It’s one of the most stunningly shot films of not just this year, but the last several. I can’t wait to just see it again, just to bask in its visuals without trying to follow its plot. And the sound design is so remarkable that it’s almost overwhelming—this is a film you don’t passively watch, you experience it.\n",
    "\n",
    "Don’t worry—this is no hollow visual spectacle. It’s grounded at the same time. As he did with Amy Adams in “Arrival” and Benicio Del Toro in “Sicario,” Villeneuve proves his skill with performance as well, particularly with Ryan Gosling, who gives one of the best performances of his career. Gosling is perfect for this part as he’s always had a vulnerability underneath the handsome façade, and he allows fear and confusion to become operating forces on K’s arc without ever overselling the deep emotion of the piece. It’s a fantastic performance, and Villeneuve draws great ones from Sylvia Hoeks and Ana de Armas as well. The film did drag a little for me near the end of the first hour when I wanted it to pick up the pace, and some of the characters feel like they do things dictated by plot necessity more than believable behavior, but that's a criticism that could fade on repeat viewing.\n",
    "\n",
    "It would have been incredibly easy to reboot “Blade Runner” directly, merely continuing Deckard and Rachel’s story from the first movie or even (gasp) remaking it. And yet while hundreds of writers and filmmakers were inspired by “Blade Runner,” it’s hard to believe any of them could have found a way to expand its legacy as completely as Villenueve does here with a movie that doesn't feel at all repetitive. He’s in no way seeking to improve or replace—the films now work together, enriching each other instead of mimicking. They ask timeless questions and, like all great films, refuse to give you all the answers, allowing viewers to debate and discuss their meaning instead of merely being passive recipients of mindless entertainment. In that sense, \"Blade Runner 2049\" answers one of its own questions about what it means to be human—to have free thought—and how vital it is to appreciate art so clearly designed to enrich the soul. \n",
    "\n",
    "\n",
    "\n",
    "\"\"\"\n",
    "print('The review is {}'.format(loaded_gs.predict([review])[0]))"
   ]
  },
  {
   "cell_type": "code",
   "execution_count": null,
   "metadata": {},
   "outputs": [],
   "source": [
    "review = '''\n",
    "\n",
    "'''\n",
    "print('The review is {}'.format(loaded_gs.predict([review])[0]))"
   ]
  },
  {
   "cell_type": "code",
   "execution_count": null,
   "metadata": {},
   "outputs": [],
   "source": [
    "review = '''\n",
    "\n",
    "'''\n",
    "print('The review is {}'.format(loaded_gs.predict([review])[0]))"
   ]
  },
  {
   "cell_type": "code",
   "execution_count": null,
   "metadata": {
    "collapsed": true
   },
   "outputs": [],
   "source": []
  }
 ],
 "metadata": {
  "anaconda-cloud": {},
  "kernelspec": {
   "display_name": "Python 2",
   "language": "python",
   "name": "python2"
  },
  "language_info": {
   "codemirror_mode": {
    "name": "ipython",
    "version": 2
   },
   "file_extension": ".py",
   "mimetype": "text/x-python",
   "name": "python",
   "nbconvert_exporter": "python",
   "pygments_lexer": "ipython2",
   "version": "2.7.12"
  }
 },
 "nbformat": 4,
 "nbformat_minor": 1
}
